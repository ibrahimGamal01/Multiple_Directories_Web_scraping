{
 "cells": [
  {
   "cell_type": "code",
   "execution_count": 14,
   "metadata": {},
   "outputs": [
    {
     "name": "stdout",
     "output_type": "stream",
     "text": [
      "Phone numbers extracted and saved to '58.Data.Clean.json'.\n"
     ]
    }
   ],
   "source": [
    "import json\n",
    "import re\n",
    "\n",
    "# Load the original JSON data\n",
    "with open('58.Data.json', 'r') as f:\n",
    "    data = json.load(f)\n",
    "\n",
    "# Function to extract phone number from contact field\n",
    "def extract_phone_number(contact):\n",
    "    # Regular expression to find phone numbers\n",
    "    phone_regex = r'\\(?(\\d{3})\\)?[-.\\s]?(\\d{3})[-.\\s]?(\\d{4})'\n",
    "    match = re.search(phone_regex, contact)\n",
    "    if match:\n",
    "        phone_number = f\"({match.group(1)}) {match.group(2)}-{match.group(3)}\"\n",
    "        return phone_number\n",
    "    else:\n",
    "        return None\n",
    "\n",
    "# Process each item in the data\n",
    "for item in data:\n",
    "    # Extract phone number from contact field if it exists\n",
    "    if 'contact' in item:\n",
    "        phone_number = extract_phone_number(item['contact'])\n",
    "        if phone_number:\n",
    "            item['phone'] = phone_number\n",
    "\n",
    "# Write the cleaned data to a new JSON file\n",
    "with open('58.Data.Clean.json', 'w') as f:\n",
    "    json.dump(data, f, indent=2)\n",
    "\n",
    "print(\"Phone numbers extracted and saved to '58.Data.Clean.json'.\")\n"
   ]
  },
  {
   "cell_type": "code",
   "execution_count": 15,
   "metadata": {},
   "outputs": [
    {
     "name": "stdout",
     "output_type": "stream",
     "text": [
      "Phone numbers extracted and saved to '58.Data.Clean.2.json'.\n"
     ]
    }
   ],
   "source": [
    "import json\n",
    "import re\n",
    "\n",
    "# Load the original JSON data\n",
    "with open('58.Data.json', 'r') as f:\n",
    "    data = json.load(f)\n",
    "\n",
    "# Function to extract phone number from contact field\n",
    "def extract_phone_number(contact):\n",
    "    # Regular expression to find phone numbers\n",
    "    phone_regex = r'\\(?(\\d{3})\\)?[-.\\s]?(\\d{3})[-.\\s]?(\\d{4})'\n",
    "    match = re.search(phone_regex, contact)\n",
    "    if match:\n",
    "        phone_number = f\"({match.group(1)}) {match.group(2)}-{match.group(3)}\"\n",
    "        return phone_number\n",
    "    else:\n",
    "        return None\n",
    "\n",
    "# Function to clean contact field\n",
    "def clean_contact_field(contact):\n",
    "    lines = contact.split('\\n')\n",
    "    cleaned_lines = []\n",
    "    for line in lines:\n",
    "        if re.search(r'\\(?\\d{3}\\)?[-.\\s]?\\d{3}[-.\\s]?\\d{4}', line):\n",
    "            continue\n",
    "        cleaned_lines.append(line)\n",
    "    return '\\n'.join(cleaned_lines)\n",
    "\n",
    "# Process each item in the data\n",
    "for item in data:\n",
    "    # Extract phone number from contact field if it exists\n",
    "    if 'contact' in item:\n",
    "        phone_number = extract_phone_number(item['contact'])\n",
    "        if phone_number:\n",
    "            item['phone'] = phone_number\n",
    "        # Clean the contact field to remove lines containing phone numbers\n",
    "        item['contact'] = clean_contact_field(item['contact'])\n",
    "\n",
    "# Write the cleaned data to a new JSON file\n",
    "with open('58.Data.Clean.2.json', 'w') as f:\n",
    "    json.dump(data, f, indent=2)\n",
    "\n",
    "print(\"Phone numbers extracted and saved to '58.Data.Clean.2.json'.\")\n"
   ]
  }
 ],
 "metadata": {
  "kernelspec": {
   "display_name": "base",
   "language": "python",
   "name": "python3"
  },
  "language_info": {
   "codemirror_mode": {
    "name": "ipython",
    "version": 3
   },
   "file_extension": ".py",
   "mimetype": "text/x-python",
   "name": "python",
   "nbconvert_exporter": "python",
   "pygments_lexer": "ipython3",
   "version": "3.10.9"
  }
 },
 "nbformat": 4,
 "nbformat_minor": 2
}
