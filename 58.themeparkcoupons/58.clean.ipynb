{
 "cells": [
  {
   "cell_type": "code",
   "execution_count": 3,
   "metadata": {},
   "outputs": [
    {
     "name": "stdout",
     "output_type": "stream",
     "text": [
      "Data cleaning complete.\n"
     ]
    }
   ],
   "source": [
    "import re\n",
    "import json\n",
    "\n",
    "# Function to clean overview and extract phone numbers\n",
    "def clean_data(data):\n",
    "    cleaned_data = []\n",
    "    \n",
    "    phone_regex = re.compile(r'(\\(?\\d{3}\\)?[-.\\s]?\\d{3}[-.\\s]?\\d{4})')\n",
    "\n",
    "    for entry in data:\n",
    "        # Clean overview\n",
    "        cleaned_overview = re.sub(r'\\n+', ' ', entry['overview'])\n",
    "        cleaned_overview = re.sub(r'\\t+', ' ', cleaned_overview)\n",
    "        cleaned_overview = re.sub(r'window\\.addEventListener.*?};', '', cleaned_overview)\n",
    "        cleaned_overview = cleaned_overview.strip()\n",
    "\n",
    "        # Extract phone number\n",
    "        phone_match = phone_regex.search(entry['address'])\n",
    "        phone_number = phone_match.group(0) if phone_match else None\n",
    "\n",
    "        # Remove phone number from address\n",
    "        cleaned_address = phone_regex.sub('', entry['address']).strip()\n",
    "\n",
    "        # Add cleaned data to new list\n",
    "        cleaned_entry = {\n",
    "            'name': entry['name'],\n",
    "            'website': entry.get('website'),\n",
    "            'address': cleaned_address,\n",
    "            'overview': cleaned_overview,\n",
    "            'logoLink': entry.get('logoLink'),\n",
    "            'phone': phone_number\n",
    "        }\n",
    "\n",
    "        cleaned_data.append(cleaned_entry)\n",
    "    \n",
    "    return cleaned_data\n",
    "\n",
    "# Load JSON data\n",
    "with open('58.Data.json', 'r') as file:\n",
    "    data = json.load(file)\n",
    "\n",
    "# Clean data\n",
    "cleaned_data = clean_data(data)\n",
    "\n",
    "# Save cleaned data to new JSON file\n",
    "with open('58.CleanedData.json', 'w') as file:\n",
    "    json.dump(cleaned_data, file, indent=4)\n",
    "\n",
    "print(\"Data cleaning complete.\")\n"
   ]
  }
 ],
 "metadata": {
  "kernelspec": {
   "display_name": "base",
   "language": "python",
   "name": "python3"
  },
  "language_info": {
   "codemirror_mode": {
    "name": "ipython",
    "version": 3
   },
   "file_extension": ".py",
   "mimetype": "text/x-python",
   "name": "python",
   "nbconvert_exporter": "python",
   "pygments_lexer": "ipython3",
   "version": "3.10.9"
  }
 },
 "nbformat": 4,
 "nbformat_minor": 2
}
