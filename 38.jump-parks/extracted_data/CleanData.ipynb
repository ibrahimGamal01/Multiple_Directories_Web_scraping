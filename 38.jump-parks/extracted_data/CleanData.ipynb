{
 "cells": [
  {
   "cell_type": "code",
   "execution_count": 5,
   "metadata": {},
   "outputs": [
    {
     "name": "stdout",
     "output_type": "stream",
     "text": [
      "Data has been written to output.xlsx\n"
     ]
    }
   ],
   "source": [
    "# Importing the necessary library\n",
    "import pandas as pd\n",
    "\n",
    "# Define the JSON-like data\n",
    "data = {\n",
    "    \"name\": \"360ºextrem\",\n",
    "    \"details\": \"Av. de Santa Coloma, 115, AD500 Andorra la Vella, Andorra\",\n",
    "    \"openingHours\": [\n",
    "        \"Monday: Closed\",\n",
    "        \"Tuesday: 5:00 – 8:30 PM\",\n",
    "        \"Wednesday: 5:00 – 8:30 PM\",\n",
    "        \"Thursday: 5:00 – 8:30 PM\",\n",
    "        \"Friday: 5:00 – 8:30 PM\",\n",
    "        \"Saturday: 3:30 – 8:30 PM\",\n",
    "        \"Sunday: 3:30 – 8:30 PM\"\n",
    "    ],\n",
    "    \"phone\": \"828 566\",\n",
    "    \"link\": \"http://www.360extrem.com/\"\n",
    "}\n",
    "\n",
    "# Flatten the dictionary\n",
    "flattened_data = {\n",
    "    \"name\": data[\"name\"],\n",
    "    \"details\": data[\"details\"],\n",
    "    \"phone\": data[\"phone\"],\n",
    "    \"link\": data[\"link\"]\n",
    "}\n",
    "\n",
    "# Create a separate dictionary for opening hours\n",
    "opening_hours = {f\"openingHours_{hour.split(': ')[0]}\": hour.split(': ')[1] for hour in data[\"openingHours\"]}\n",
    "\n",
    "# Combine the flattened data and opening hours\n",
    "combined_data = {**flattened_data, **opening_hours}\n",
    "\n",
    "# Convert to DataFrame\n",
    "df = pd.DataFrame([combined_data])\n",
    "\n",
    "# Save to XLSX\n",
    "output_file = \"output.xlsx\"\n",
    "df.to_excel(output_file, index=False)\n",
    "\n",
    "# Print confirmation\n",
    "print(f\"Data has been written to {output_file}\")\n"
   ]
  },
  {
   "cell_type": "code",
   "execution_count": 8,
   "metadata": {},
   "outputs": [
    {
     "name": "stdout",
     "output_type": "stream",
     "text": [
      "Data has been written to oo.xlsx\n"
     ]
    }
   ],
   "source": [
    "import json\n",
    "import pandas as pd\n",
    "\n",
    "# Define the path to the JSON file\n",
    "json_file_path = \"38.Data.json\"\n",
    "\n",
    "# Load the data from the JSON file\n",
    "with open(json_file_path, \"r\") as file:\n",
    "    data = json.load(file)\n",
    "\n",
    "# Function to safely split opening hours\n",
    "def split_opening_hours(hour):\n",
    "    parts = hour.split(': ')\n",
    "    if len(parts) == 2:\n",
    "        return parts[0], parts[1]\n",
    "    return parts[0], \"\"  # Handle cases where the format might be incorrect\n",
    "\n",
    "# Check if the data is a list\n",
    "if isinstance(data, list):\n",
    "    # Initialize a list to hold the processed data\n",
    "    processed_data = []\n",
    "\n",
    "    # Process each dictionary in the list\n",
    "    for item in data:\n",
    "        # Flatten the dictionary\n",
    "        flattened_data = {\n",
    "            \"name\": item[\"name\"],\n",
    "            \"details\": item[\"details\"],\n",
    "            \"phone\": item[\"phone\"],\n",
    "            \"link\": item[\"link\"]\n",
    "        }\n",
    "\n",
    "        # Create a separate dictionary for opening hours\n",
    "        opening_hours = {f\"openingHours_{split_opening_hours(hour)[0]}\": split_opening_hours(hour)[1] for hour in item[\"openingHours\"]}\n",
    "\n",
    "        # Combine the flattened data and opening hours\n",
    "        combined_data = {**flattened_data, **opening_hours}\n",
    "\n",
    "        # Append the combined data to the processed_data list\n",
    "        processed_data.append(combined_data)\n",
    "\n",
    "    # Convert to DataFrame\n",
    "    df = pd.DataFrame(processed_data)\n",
    "else:\n",
    "    # Handle the case where data is a single dictionary\n",
    "    flattened_data = {\n",
    "        \"name\": data[\"name\"],\n",
    "        \"details\": data[\"details\"],\n",
    "        \"phone\": data[\"phone\"],\n",
    "        \"link\": data[\"link\"]\n",
    "    }\n",
    "\n",
    "    # Create a separate dictionary for opening hours\n",
    "    opening_hours = {f\"openingHours_{split_opening_hours(hour)[0]}\": split_opening_hours(hour)[1] for hour in data[\"openingHours\"]}\n",
    "\n",
    "    # Combine the flattened data and opening hours\n",
    "    combined_data = {**flattened_data, **opening_hours}\n",
    "\n",
    "    # Convert to DataFrame\n",
    "    df = pd.DataFrame([combined_data])\n",
    "\n",
    "# Save to XLSX\n",
    "output_file = \"oo.xlsx\"\n",
    "df.to_excel(output_file, index=False)\n",
    "\n",
    "# Print confirmation\n",
    "print(f\"Data has been written to {output_file}\")"
   ]
  }
 ],
 "metadata": {
  "kernelspec": {
   "display_name": "base",
   "language": "python",
   "name": "python3"
  },
  "language_info": {
   "codemirror_mode": {
    "name": "ipython",
    "version": 3
   },
   "file_extension": ".py",
   "mimetype": "text/x-python",
   "name": "python",
   "nbconvert_exporter": "python",
   "pygments_lexer": "ipython3",
   "version": "3.10.9"
  }
 },
 "nbformat": 4,
 "nbformat_minor": 2
}
