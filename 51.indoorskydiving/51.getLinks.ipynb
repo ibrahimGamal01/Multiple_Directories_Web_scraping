{
 "cells": [
  {
   "cell_type": "code",
   "execution_count": 1,
   "metadata": {},
   "outputs": [
    {
     "name": "stdout",
     "output_type": "stream",
     "text": [
      "Opening the webpage...\n",
      "Webpage opened successfully.\n",
      "Waiting for 30 seconds to allow the page to load completely...\n",
      "Successfully extracted 254 links and saved to '51.links.txt'.\n"
     ]
    }
   ],
   "source": [
    "import time\n",
    "from selenium import webdriver\n",
    "from selenium.webdriver.chrome.service import Service\n",
    "from selenium.webdriver.common.by import By\n",
    "from selenium.webdriver.support.ui import WebDriverWait\n",
    "from selenium.webdriver.support import expected_conditions as EC\n",
    "from webdriver_manager.chrome import ChromeDriverManager\n",
    "from selenium.common.exceptions import TimeoutException, WebDriverException, StaleElementReferenceException, NoSuchElementException\n",
    "\n",
    "# Initialize the Chrome driver\n",
    "driver = webdriver.Chrome(service=Service(ChromeDriverManager().install()))\n",
    "\n",
    "# Open the webpage\n",
    "print(\"Opening the webpage...\")\n",
    "driver.get(\"https://www.indoorskydiving.world/wind-tunnels-world-directory/\")\n",
    "print(\"Webpage opened successfully.\")\n",
    "\n",
    "# Wait for 30 seconds to allow the page to load completely\n",
    "print(\"Waiting for 30 seconds to allow the page to load completely...\")\n",
    "time.sleep(30)\n",
    "\n",
    "try:\n",
    "    # Function to save the list of links to a file\n",
    "    def save_links(links):\n",
    "        with open('51.links.txt', 'w') as file:\n",
    "            for link in links:\n",
    "                file.write(f\"{link}\\n\")\n",
    "\n",
    "    # Function to get the list of links from the table\n",
    "    def get_links():\n",
    "        links = []\n",
    "        rows = WebDriverWait(driver, 20).until(\n",
    "            EC.presence_of_all_elements_located((By.XPATH, \"//tbody/tr\"))\n",
    "        )\n",
    "        for row in rows:\n",
    "            try:\n",
    "                link = row.find_element(By.XPATH, \".//td[@class='col-title sorting_1']/a\").get_attribute(\"href\")\n",
    "                links.append(link)\n",
    "            except NoSuchElementException:\n",
    "                continue\n",
    "        return links\n",
    "\n",
    "    # Get the list of links\n",
    "    links = get_links()\n",
    "\n",
    "    # Save the links to a file\n",
    "    save_links(links)\n",
    "\n",
    "    # Print success message with the count of links\n",
    "    print(f\"Successfully extracted {len(links)} links and saved to '51.links.txt'.\")\n",
    "\n",
    "except TimeoutException as e:\n",
    "    print(f\"Error: {e}\")\n",
    "except WebDriverException as e:\n",
    "    print(f\"WebDriver error: {e}\")\n",
    "except Exception as e:\n",
    "    print(f\"An unexpected error occurred: {e}\")\n",
    "finally:\n",
    "    # Close the browser\n",
    "    driver.quit()"
   ]
  }
 ],
 "metadata": {
  "kernelspec": {
   "display_name": "base",
   "language": "python",
   "name": "python3"
  },
  "language_info": {
   "codemirror_mode": {
    "name": "ipython",
    "version": 3
   },
   "file_extension": ".py",
   "mimetype": "text/x-python",
   "name": "python",
   "nbconvert_exporter": "python",
   "pygments_lexer": "ipython3",
   "version": "3.10.9"
  }
 },
 "nbformat": 4,
 "nbformat_minor": 2
}
