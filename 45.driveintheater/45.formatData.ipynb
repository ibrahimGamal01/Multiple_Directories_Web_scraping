{
 "cells": [
  {
   "cell_type": "code",
   "execution_count": 1,
   "metadata": {},
   "outputs": [
    {
     "name": "stdout",
     "output_type": "stream",
     "text": [
      "Data has been separated into format1.json and format2.json\n"
     ]
    }
   ],
   "source": [
    "import json\n",
    "import re\n",
    "\n",
    "# Read data from the input file\n",
    "with open('45.Data.json', 'r') as file:\n",
    "    data = json.load(file)\n",
    "\n",
    "# Separate entries by format\n",
    "format1 = []\n",
    "format2 = []\n",
    "\n",
    "for entry in data:\n",
    "    if 'details' in entry and entry['details']:\n",
    "        for detail in entry['details']:\n",
    "            format2.append(detail)\n",
    "    else:\n",
    "        # Split the 'name' field into multiple entries based on double newline (\\n\\n)\n",
    "        names = re.split(r'\\n{2,}', entry['name'].strip())\n",
    "        for name in names:\n",
    "            if name:\n",
    "                format1.append({\"name\": name.strip(), \"details\": []})\n",
    "\n",
    "# Write format1 data to a new JSON file\n",
    "with open('format1.json', 'w') as file:\n",
    "    json.dump(format1, file, indent=2)\n",
    "\n",
    "# Write format2 data to a new JSON file\n",
    "with open('45.Data.4.json', 'w') as file:\n",
    "    json.dump(format2, file, indent=2)\n",
    "\n",
    "print(\"Data has been separated into format1.json and format2.json\")"
   ]
  }
 ],
 "metadata": {
  "kernelspec": {
   "display_name": "base",
   "language": "python",
   "name": "python3"
  },
  "language_info": {
   "codemirror_mode": {
    "name": "ipython",
    "version": 3
   },
   "file_extension": ".py",
   "mimetype": "text/x-python",
   "name": "python",
   "nbconvert_exporter": "python",
   "pygments_lexer": "ipython3",
   "version": "3.10.9"
  }
 },
 "nbformat": 4,
 "nbformat_minor": 2
}
