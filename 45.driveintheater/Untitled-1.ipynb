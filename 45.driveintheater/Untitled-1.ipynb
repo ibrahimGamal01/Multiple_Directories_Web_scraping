{
 "cells": [
  {
   "cell_type": "code",
   "execution_count": 1,
   "metadata": {},
   "outputs": [
    {
     "name": "stdout",
     "output_type": "stream",
     "text": [
      "Cleaning process completed.\n"
     ]
    }
   ],
   "source": [
    "import json\n",
    "\n",
    "# Load the JSON data from file\n",
    "with open('45.drive_in_theaters.json', 'r') as file:\n",
    "    data = json.load(file)\n",
    "\n",
    "# Create a new list to hold the cleaned data\n",
    "cleaned_data = []\n",
    "\n",
    "# Process each entry in the data\n",
    "for entry in data:\n",
    "    if entry['name']:\n",
    "        # If the name exists, add it to the cleaned data list\n",
    "        cleaned_data.append({\n",
    "            'name': entry['name'],\n",
    "            'details': entry['details']\n",
    "        })\n",
    "\n",
    "# Write the cleaned data to a new JSON file\n",
    "with open('cleaned_drive_in_theaters.json', 'w') as file:\n",
    "    json.dump(cleaned_data, file, indent=2)\n",
    "\n",
    "print(\"Cleaning process completed.\")\n"
   ]
  }
 ],
 "metadata": {
  "kernelspec": {
   "display_name": "base",
   "language": "python",
   "name": "python3"
  },
  "language_info": {
   "codemirror_mode": {
    "name": "ipython",
    "version": 3
   },
   "file_extension": ".py",
   "mimetype": "text/x-python",
   "name": "python",
   "nbconvert_exporter": "python",
   "pygments_lexer": "ipython3",
   "version": "3.10.9"
  }
 },
 "nbformat": 4,
 "nbformat_minor": 2
}
